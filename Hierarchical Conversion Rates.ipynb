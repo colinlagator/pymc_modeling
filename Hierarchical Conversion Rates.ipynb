{
 "cells": [
  {
   "cell_type": "code",
   "execution_count": 1,
   "metadata": {},
   "outputs": [],
   "source": [
    "import pymc as pm\n",
    "import arviz as az\n",
    "import pandas as pd\n",
    "import numpy as np\n",
    "import plotly.graph_objects as go"
   ]
  },
  {
   "cell_type": "markdown",
   "metadata": {},
   "source": [
    "# Overview\n",
    "- A funnel is a common occurrence in many business settings like sales and hiring.\n",
    "\n",
    "- Optimizing funnels is an important step, and one major metric to evaluate them with is conversion rates.\n",
    "- In this notebook, I'll go over how to implement a hierarchical conversion rate model in PyMC, and how it could be used to achieve a sales goal."
   ]
  },
  {
   "cell_type": "markdown",
   "metadata": {},
   "source": [
    "## Data\n",
    "- The data used describes funnel metrics for different sales people at the same company\n",
    "\n",
    "- There are 5 stages to the funnel, so 4 conversion rates to examine."
   ]
  },
  {
   "cell_type": "code",
   "execution_count": 2,
   "metadata": {},
   "outputs": [
    {
     "data": {
      "text/html": [
       "<div>\n",
       "<style scoped>\n",
       "    .dataframe tbody tr th:only-of-type {\n",
       "        vertical-align: middle;\n",
       "    }\n",
       "\n",
       "    .dataframe tbody tr th {\n",
       "        vertical-align: top;\n",
       "    }\n",
       "\n",
       "    .dataframe thead th {\n",
       "        text-align: right;\n",
       "    }\n",
       "</style>\n",
       "<table border=\"1\" class=\"dataframe\">\n",
       "  <thead>\n",
       "    <tr style=\"text-align: right;\">\n",
       "      <th></th>\n",
       "      <th>salesperson</th>\n",
       "      <th>years_exp</th>\n",
       "      <th>time_period</th>\n",
       "      <th>outreach</th>\n",
       "      <th>discovery</th>\n",
       "      <th>demo</th>\n",
       "      <th>proposal</th>\n",
       "      <th>closed_won</th>\n",
       "    </tr>\n",
       "  </thead>\n",
       "  <tbody>\n",
       "    <tr>\n",
       "      <th>0</th>\n",
       "      <td>1</td>\n",
       "      <td>2</td>\n",
       "      <td>1</td>\n",
       "      <td>102.0</td>\n",
       "      <td>33.0</td>\n",
       "      <td>13.0</td>\n",
       "      <td>4.0</td>\n",
       "      <td>1.0</td>\n",
       "    </tr>\n",
       "    <tr>\n",
       "      <th>1</th>\n",
       "      <td>1</td>\n",
       "      <td>2</td>\n",
       "      <td>2</td>\n",
       "      <td>106.0</td>\n",
       "      <td>29.0</td>\n",
       "      <td>11.0</td>\n",
       "      <td>3.0</td>\n",
       "      <td>1.0</td>\n",
       "    </tr>\n",
       "    <tr>\n",
       "      <th>2</th>\n",
       "      <td>1</td>\n",
       "      <td>2</td>\n",
       "      <td>3</td>\n",
       "      <td>111.0</td>\n",
       "      <td>30.0</td>\n",
       "      <td>12.0</td>\n",
       "      <td>4.0</td>\n",
       "      <td>1.0</td>\n",
       "    </tr>\n",
       "    <tr>\n",
       "      <th>3</th>\n",
       "      <td>1</td>\n",
       "      <td>2</td>\n",
       "      <td>4</td>\n",
       "      <td>109.0</td>\n",
       "      <td>23.0</td>\n",
       "      <td>10.0</td>\n",
       "      <td>3.0</td>\n",
       "      <td>1.0</td>\n",
       "    </tr>\n",
       "    <tr>\n",
       "      <th>4</th>\n",
       "      <td>2</td>\n",
       "      <td>3</td>\n",
       "      <td>1</td>\n",
       "      <td>99.0</td>\n",
       "      <td>22.0</td>\n",
       "      <td>9.0</td>\n",
       "      <td>3.0</td>\n",
       "      <td>1.0</td>\n",
       "    </tr>\n",
       "    <tr>\n",
       "      <th>5</th>\n",
       "      <td>2</td>\n",
       "      <td>3</td>\n",
       "      <td>2</td>\n",
       "      <td>103.0</td>\n",
       "      <td>25.0</td>\n",
       "      <td>10.0</td>\n",
       "      <td>2.0</td>\n",
       "      <td>1.0</td>\n",
       "    </tr>\n",
       "    <tr>\n",
       "      <th>6</th>\n",
       "      <td>2</td>\n",
       "      <td>3</td>\n",
       "      <td>3</td>\n",
       "      <td>104.0</td>\n",
       "      <td>25.0</td>\n",
       "      <td>11.0</td>\n",
       "      <td>3.0</td>\n",
       "      <td>1.0</td>\n",
       "    </tr>\n",
       "  </tbody>\n",
       "</table>\n",
       "</div>"
      ],
      "text/plain": [
       "   salesperson  years_exp  time_period  outreach  discovery  demo  proposal  \\\n",
       "0            1          2            1     102.0       33.0  13.0       4.0   \n",
       "1            1          2            2     106.0       29.0  11.0       3.0   \n",
       "2            1          2            3     111.0       30.0  12.0       4.0   \n",
       "3            1          2            4     109.0       23.0  10.0       3.0   \n",
       "4            2          3            1      99.0       22.0   9.0       3.0   \n",
       "5            2          3            2     103.0       25.0  10.0       2.0   \n",
       "6            2          3            3     104.0       25.0  11.0       3.0   \n",
       "\n",
       "   closed_won  \n",
       "0         1.0  \n",
       "1         1.0  \n",
       "2         1.0  \n",
       "3         1.0  \n",
       "4         1.0  \n",
       "5         1.0  \n",
       "6         1.0  "
      ]
     },
     "execution_count": 2,
     "metadata": {},
     "output_type": "execute_result"
    }
   ],
   "source": [
    "df = pd.read_csv('data/sales_records.csv')\n",
    "\n",
    "salespeople = df[\"salesperson\"].unique()\n",
    "num_sales_people = len(salespeople)\n",
    "\n",
    "totaled_df = df[[\"salesperson\", \"outreach\", \"discovery\", \"demo\", \"proposal\", \"closed_won\"]].groupby(\"salesperson\").sum().reset_index()\n",
    "totaled_df = pd.merge(df[[\"salesperson\", \"years_exp\"]].drop_duplicates(), totaled_df, on=\"salesperson\")\n",
    "x = totaled_df[[\"outreach\", \"discovery\", \"demo\", \"proposal\", \"closed_won\"]].values\n",
    "crs = [\"outreach_cr\", \"discovery_cr\", \"demo_cr\", \"proposal_cr\"]\n",
    "\n",
    "df.head(7)"
   ]
  },
  {
   "cell_type": "markdown",
   "metadata": {},
   "source": [
    "## Modeling\n",
    "- The first model is an unpooled model, meaning every sales person has their conversion rates estimated independently. So only their own data influences their rate estimation"
   ]
  },
  {
   "cell_type": "code",
   "execution_count": 3,
   "metadata": {},
   "outputs": [
    {
     "name": "stderr",
     "output_type": "stream",
     "text": [
      "Sampling: [conversions_demo_cr, conversions_discovery_cr, conversions_outreach_cr, conversions_proposal_cr, demo_cr, discovery_cr, outreach_cr, proposal_cr]\n",
      "Initializing NUTS using jitter+adapt_diag...\n",
      "Multiprocess sampling (4 chains in 4 jobs)\n",
      "NUTS: [outreach_cr, discovery_cr, demo_cr, proposal_cr]\n"
     ]
    },
    {
     "data": {
      "application/vnd.jupyter.widget-view+json": {
       "model_id": "bad03810b9964f439f1e584e54f3c679",
       "version_major": 2,
       "version_minor": 0
      },
      "text/plain": [
       "Output()"
      ]
     },
     "metadata": {},
     "output_type": "display_data"
    },
    {
     "data": {
      "text/html": [
       "<pre style=\"white-space:pre;overflow-x:auto;line-height:normal;font-family:Menlo,'DejaVu Sans Mono',consolas,'Courier New',monospace\"></pre>\n"
      ],
      "text/plain": []
     },
     "metadata": {},
     "output_type": "display_data"
    },
    {
     "name": "stderr",
     "output_type": "stream",
     "text": [
      "Sampling 4 chains for 1_000 tune and 1_000 draw iterations (4_000 + 4_000 draws total) took 4 seconds.\n"
     ]
    }
   ],
   "source": [
    "with pm.Model() as model:\n",
    "    \n",
    "    for i, cr in enumerate(crs):\n",
    "        x1 = x[:, i]\n",
    "        x2 = x[:, i+1]\n",
    "        \n",
    "        cr = pm.Beta(f'{cr}', alpha=1, beta=2, shape=x.shape[0])\n",
    "        conversions = pm.Binomial(f\"conversions_{cr}\", n=x1, p=cr, shape=x.shape[0], observed=x2)\n",
    "        \n",
    "    cr_prior_pred = pm.sample_prior_predictive(samples=1000)\n",
    "    cr_idata = pm.sample()"
   ]
  },
  {
   "cell_type": "markdown",
   "metadata": {},
   "source": [
    "- The second model is a hierarchical model, it assumes that there is a common factor amongst the sales people, which describes the overall performance of all sales people.\n",
    "\n",
    "- Each individual sales persons' rates are then informed by the common factor and their own data\n",
    "- To create the shared factor, I used the mean and sample size parameterization of the Beta distribution. This creates a prior that is shared by all the sales people (hyperprior), and is fit based on all sales peoples' data."
   ]
  },
  {
   "cell_type": "code",
   "execution_count": 4,
   "metadata": {},
   "outputs": [
    {
     "name": "stderr",
     "output_type": "stream",
     "text": [
      "Sampling: [conversions_demo_cr, conversions_discovery_cr, conversions_outreach_cr, conversions_proposal_cr, demo_cr, discovery_cr, mu_demo_cr, mu_discovery_cr, mu_outreach_cr, mu_proposal_cr, nu_demo_cr, nu_discovery_cr, nu_outreach_cr, nu_proposal_cr, outreach_cr, proposal_cr]\n",
      "Initializing NUTS using jitter+adapt_diag...\n",
      "Multiprocess sampling (4 chains in 4 jobs)\n",
      "NUTS: [mu_outreach_cr, nu_outreach_cr, outreach_cr, mu_discovery_cr, nu_discovery_cr, discovery_cr, mu_demo_cr, nu_demo_cr, demo_cr, mu_proposal_cr, nu_proposal_cr, proposal_cr]\n"
     ]
    },
    {
     "data": {
      "application/vnd.jupyter.widget-view+json": {
       "model_id": "3cae9a68c7e1435f96a2146118dfce8a",
       "version_major": 2,
       "version_minor": 0
      },
      "text/plain": [
       "Output()"
      ]
     },
     "metadata": {},
     "output_type": "display_data"
    },
    {
     "data": {
      "text/html": [
       "<pre style=\"white-space:pre;overflow-x:auto;line-height:normal;font-family:Menlo,'DejaVu Sans Mono',consolas,'Courier New',monospace\"></pre>\n"
      ],
      "text/plain": []
     },
     "metadata": {},
     "output_type": "display_data"
    },
    {
     "name": "stderr",
     "output_type": "stream",
     "text": [
      "Sampling 4 chains for 1_000 tune and 1_000 draw iterations (4_000 + 4_000 draws total) took 10 seconds.\n"
     ]
    }
   ],
   "source": [
    "#https://en.wikipedia.org/wiki/Beta_distribution#Mean_and_sample_size\n",
    "\n",
    "with pm.Model() as hierarchical_model:\n",
    "    \n",
    "    for i, cr in enumerate(crs):\n",
    "        x1 = x[:, i]\n",
    "        x2 = x[:, i+1]\n",
    "    \n",
    "        mu = pm.Beta(f'mu_{cr}', 1, 1)\n",
    "        nu = pm.Gamma(f'nu_{cr}', alpha=10, beta=1)\n",
    "        a = pm.Deterministic(f'a_{cr}', mu * nu)\n",
    "        b = pm.Deterministic(f'b_{cr}', (1 - mu) * nu)\n",
    "        mean = pm.Deterministic(f'mean_{cr}', a / (a + b))\n",
    "        \n",
    "        cr = pm.Beta(f'{cr}', alpha=a, beta=b, shape=x1.shape[0])\n",
    "        conversions = pm.Binomial(f\"conversions_{cr}\", n=x1, p=cr, shape=x1.shape[0], observed=x2)\n",
    "        \n",
    "    h_cr_prior_pred = pm.sample_prior_predictive(samples=1000)\n",
    "    h_cr_idata = pm.sample()"
   ]
  },
  {
   "cell_type": "code",
   "execution_count": 5,
   "metadata": {},
   "outputs": [],
   "source": [
    "cr_traces = []\n",
    "model_type = []\n",
    "cr_type = []\n",
    "sales_persons = []\n",
    "for cr in crs:\n",
    "    sp_crs_trace = cr_idata.posterior[f\"{cr}\"].data.reshape(-1, num_sales_people)\n",
    "    unpooled_traces = [sp_crs_trace[:, i] for i in range(sp_crs_trace.shape[1])]\n",
    "    cr_traces.extend(unpooled_traces)\n",
    "    sales_persons.extend(list(range(1, sp_crs_trace.shape[1]+1)))\n",
    "    model_type.extend([\"unpooled\"] * sp_crs_trace.shape[1])\n",
    "    cr_type.extend([cr] * sp_crs_trace.shape[1])\n",
    "    \n",
    "    sp_h_crs_trace = h_cr_idata.posterior[f\"{cr}\"].data.reshape(-1, num_sales_people)\n",
    "    hierarchical_traces = [sp_h_crs_trace[:, i] for i in range(sp_h_crs_trace.shape[1])]\n",
    "    cr_traces.extend(hierarchical_traces)\n",
    "    sales_persons.extend(list(range(1, sp_h_crs_trace.shape[1]+1)))\n",
    "    model_type.extend([\"hierarchical\"] * sp_h_crs_trace.shape[1])\n",
    "    cr_type.extend([cr] * sp_h_crs_trace.shape[1])\n",
    "    \n",
    "cr_traces_df = pd.DataFrame({\n",
    "    \"model_type\": model_type,\n",
    "    \"cr_type\": cr_type,\n",
    "    \"salesperson\": sales_persons,\n",
    "    \"trace\": cr_traces\n",
    "})\n",
    "\n",
    "cr_traces_df.loc[:, \"mean\"] = cr_traces_df[\"trace\"].apply(lambda x: x.mean())\n",
    "\n",
    "visual_df_counts = totaled_df[[\"salesperson\", \"outreach\", \"discovery\", \"demo\", \"proposal\", \"closed_won\"]].melt(id_vars=\"salesperson\", value_vars=[\"outreach\", \"discovery\", \"demo\", \"proposal\", \"closed_won\"], var_name=\"stage\", value_name=\"count\")\n",
    "visual_df_counts[\"cr_type\"] = visual_df_counts[\"stage\"].apply(lambda x: x + \"_cr\")\n",
    "cr_traces_df = pd.merge(cr_traces_df, visual_df_counts, on=[\"salesperson\", \"cr_type\"], how=\"left\")"
   ]
  },
  {
   "cell_type": "markdown",
   "metadata": {},
   "source": [
    "- This graph shows the implications of the hyperprior used in the hierarchical model\n",
    "\n",
    "- Salespeople 4, 2, and 1 have higher amounts of data to inform rate estimation\n",
    "- Salesperson 3 does not have a lot of data.\n",
    "- As a result, salesperson 2's rate is less 'peaky' than the others and is pulled towards the mean value of the hyperprior (represented by the black line)"
   ]
  },
  {
   "cell_type": "code",
   "execution_count": 6,
   "metadata": {},
   "outputs": [
    {
     "data": {
      "image/png": "[encoded data removed]"
     },
     "metadata": {},
     "output_type": "display_data"
    }
   ],
   "source": [
    "visual_cr = \"proposal\"\n",
    "visual_df = cr_traces_df[\n",
    "    (cr_traces_df[\"cr_type\"] == f\"{visual_cr}_cr\") &\n",
    "    (cr_traces_df[\"salesperson\"] < 5)\n",
    "]\n",
    "line_color_map = {\n",
    "    \"unpooled\": \"blue\",\n",
    "    \"hierarchical\": \"red\"\n",
    "}\n",
    "\n",
    "fig = go.Figure()\n",
    "for i, row in visual_df.iterrows():\n",
    "    fig.add_trace(\n",
    "        go.Violin(\n",
    "            x=row[\"trace\"], \n",
    "            line_color=line_color_map[row[\"model_type\"]],\n",
    "            name=f\"Salesperson {row[\"salesperson\"]}\",\n",
    "            hoverinfo='none',\n",
    "            showlegend=False\n",
    "        )\n",
    "    )\n",
    "fig.add_trace(go.Violin(x=[None], y=[None], line_color=\"blue\", showlegend=True, name=\"Unpooled\"))\n",
    "fig.add_trace(go.Violin(x=[None], y=[None], line_color=\"red\", showlegend=True, name=\"Hierarchical\"))\n",
    "\n",
    "fig.add_vline(x=h_cr_idata.posterior[f\"mean_{visual_cr}_cr\"].data.mean(), line_dash=\"dash\", line_color=\"black\")\n",
    "fig.update_traces(orientation='h', side='positive', width=3, points=False)\n",
    "fig.update_layout(title=f\"Salesperson {visual_cr.capitalize()} to Sale Conversion Rate\", xaxis_title=\"Conversion Rate\", yaxis_title=\"Salesperson\")\n",
    "fig.show(\"png\")"
   ]
  },
  {
   "cell_type": "code",
   "execution_count": 7,
   "metadata": {},
   "outputs": [
    {
     "data": {
      "text/html": [
       "<div>\n",
       "<style scoped>\n",
       "    .dataframe tbody tr th:only-of-type {\n",
       "        vertical-align: middle;\n",
       "    }\n",
       "\n",
       "    .dataframe tbody tr th {\n",
       "        vertical-align: top;\n",
       "    }\n",
       "\n",
       "    .dataframe thead th {\n",
       "        text-align: right;\n",
       "    }\n",
       "</style>\n",
       "<table border=\"1\" class=\"dataframe\">\n",
       "  <thead>\n",
       "    <tr style=\"text-align: right;\">\n",
       "      <th></th>\n",
       "      <th>salesperson</th>\n",
       "      <th>proposal</th>\n",
       "    </tr>\n",
       "  </thead>\n",
       "  <tbody>\n",
       "    <tr>\n",
       "      <th>3</th>\n",
       "      <td>4</td>\n",
       "      <td>18.0</td>\n",
       "    </tr>\n",
       "    <tr>\n",
       "      <th>2</th>\n",
       "      <td>3</td>\n",
       "      <td>2.0</td>\n",
       "    </tr>\n",
       "    <tr>\n",
       "      <th>1</th>\n",
       "      <td>2</td>\n",
       "      <td>20.0</td>\n",
       "    </tr>\n",
       "    <tr>\n",
       "      <th>0</th>\n",
       "      <td>1</td>\n",
       "      <td>14.0</td>\n",
       "    </tr>\n",
       "  </tbody>\n",
       "</table>\n",
       "</div>"
      ],
      "text/plain": [
       "   salesperson  proposal\n",
       "3            4      18.0\n",
       "2            3       2.0\n",
       "1            2      20.0\n",
       "0            1      14.0"
      ]
     },
     "execution_count": 7,
     "metadata": {},
     "output_type": "execute_result"
    }
   ],
   "source": [
    "totaled_df[\n",
    "    (totaled_df[\"salesperson\"] < 5)\n",
    "].sort_values(\"salesperson\", ascending=False)[[\"salesperson\", visual_cr]]"
   ]
  },
  {
   "cell_type": "markdown",
   "metadata": {},
   "source": [
    "## Using the Model\n",
    "\n",
    "- A benefit of hierarchical models is estimating values for groups/individuals not in the original dataset.\n",
    "\n",
    "- Below are the average conversion rates estimated by the hyperprior"
   ]
  },
  {
   "cell_type": "code",
   "execution_count": 8,
   "metadata": {},
   "outputs": [
    {
     "name": "stdout",
     "output_type": "stream",
     "text": [
      "Mean outreach_cr: 0.243\n",
      "Mean discovery_cr: 0.406\n",
      "Mean demo_cr: 0.328\n",
      "Mean proposal_cr: 0.42\n"
     ]
    }
   ],
   "source": [
    "cr_means = []\n",
    "cr_samples = []\n",
    "for cr in crs:\n",
    "    cr_mean = h_cr_idata.posterior[f\"mean_{cr}\"].data.mean()\n",
    "    cr_samples.append(h_cr_idata.posterior[f\"mean_{cr}\"].data.reshape(-1))\n",
    "    cr_means.append(cr_mean)\n",
    "    print(f\"Mean {cr}: {round(cr_mean, 3)}\")"
   ]
  },
  {
   "cell_type": "markdown",
   "metadata": {},
   "source": [
    "### Adding a New Salesperson\n",
    "- We can use those averages to back into how many leads, demos, etc. a new salesperson might need to get a certain number of sales\n",
    "- Below is that for achieving 1 sale"
   ]
  },
  {
   "cell_type": "code",
   "execution_count": 9,
   "metadata": {},
   "outputs": [
    {
     "name": "stdout",
     "output_type": "stream",
     "text": [
      "-- Recommended Funnel Counts Based on Hyperpriors--\n",
      "Outreach: 71\n",
      "Discovery: 30\n",
      "Demo: 10\n",
      "Proposal: 4\n",
      "Sale: 1\n",
      "\n",
      "-- Recommended Funnel Ranges Based on Hyperpriors (94% HDI)--\n",
      "Outreach Range: [55. 93.]\n",
      "Discovery Range: [23. 39.]\n",
      "Demo Range: [ 8. 12.]\n",
      "Proposal Range: [3. 5.]\n"
     ]
    }
   ],
   "source": [
    "stages = [\"Outreach\", \"Discovery\", \"Demo\", \"Proposal\", \"Sale\"]\n",
    "\n",
    "desired_closed_wons = 1\n",
    "funnel_counts = [desired_closed_wons]\n",
    "funnel_samples = []\n",
    "for m, samp_means in zip(cr_means, cr_samples):\n",
    "    new_count = round(funnel_counts[0] / m)\n",
    "    funnel_samples.append(funnel_counts[0] / samp_means)\n",
    "    funnel_counts.insert(0, new_count)\n",
    "print(\"-- Recommended Funnel Counts Based on Hyperpriors--\")\n",
    "for s, f in zip(stages, funnel_counts):\n",
    "    print(f\"{s}: {f}\")\n",
    "print()\n",
    "print(\"-- Recommended Funnel Ranges Based on Hyperpriors (94% HDI)--\")\n",
    "for fs, s in zip(funnel_samples[::-1], stages):\n",
    "    hdi = az.hdi(fs, 0.94)\n",
    "    print(f\"{s} Range: {hdi.round()}\")"
   ]
  },
  {
   "cell_type": "markdown",
   "metadata": {},
   "source": [
    "### Updating the New Salesperson\n",
    "- Right now the new salesperson has no data, but as they start working their data can be added to the model, which will improve their rate estimations."
   ]
  },
  {
   "cell_type": "code",
   "execution_count": 10,
   "metadata": {},
   "outputs": [
    {
     "name": "stdout",
     "output_type": "stream",
     "text": [
      "-- Data for New Salesperson --\n",
      "Outreach: 25\n",
      "Discovery: 5\n",
      "Demo: 2\n",
      "Proposal: 1\n",
      "Sale: 0\n"
     ]
    }
   ],
   "source": [
    "test_outreach = 25\n",
    "test_outreach_cr = 0.2\n",
    "test_disc_cr = 0.4\n",
    "test_demo_cr = 0.32\n",
    "test_proposal_cr = 0.4\n",
    "test_data = np.array([\n",
    "    test_outreach, \n",
    "    round(test_outreach*test_outreach_cr), \n",
    "    round(test_outreach*test_outreach_cr*test_disc_cr), \n",
    "    round(test_outreach*test_outreach_cr*test_disc_cr*test_demo_cr), \n",
    "    round(test_outreach*test_outreach_cr*test_disc_cr*test_demo_cr*test_proposal_cr)\n",
    "])\n",
    "x_test = np.vstack((x, test_data))\n",
    "print(\"-- Data for New Salesperson --\")\n",
    "for s, t in zip(stages, test_data):\n",
    "    print(f\"{s}: {t}\")"
   ]
  },
  {
   "cell_type": "code",
   "execution_count": 11,
   "metadata": {},
   "outputs": [
    {
     "name": "stderr",
     "output_type": "stream",
     "text": [
      "Sampling: [conversions_demo_cr, conversions_discovery_cr, conversions_outreach_cr, conversions_proposal_cr, demo_cr, discovery_cr, mu_demo_cr, mu_discovery_cr, mu_outreach_cr, mu_proposal_cr, nu_demo_cr, nu_discovery_cr, nu_outreach_cr, nu_proposal_cr, outreach_cr, proposal_cr]\n",
      "Initializing NUTS using jitter+adapt_diag...\n",
      "Multiprocess sampling (4 chains in 4 jobs)\n",
      "NUTS: [mu_outreach_cr, nu_outreach_cr, outreach_cr, mu_discovery_cr, nu_discovery_cr, discovery_cr, mu_demo_cr, nu_demo_cr, demo_cr, mu_proposal_cr, nu_proposal_cr, proposal_cr]\n"
     ]
    },
    {
     "data": {
      "application/vnd.jupyter.widget-view+json": {
       "model_id": "d102d8ddc34c46dfa877357b84e76f01",
       "version_major": 2,
       "version_minor": 0
      },
      "text/plain": [
       "Output()"
      ]
     },
     "metadata": {},
     "output_type": "display_data"
    },
    {
     "data": {
      "text/html": [
       "<pre style=\"white-space:pre;overflow-x:auto;line-height:normal;font-family:Menlo,'DejaVu Sans Mono',consolas,'Courier New',monospace\"></pre>\n"
      ],
      "text/plain": []
     },
     "metadata": {},
     "output_type": "display_data"
    },
    {
     "name": "stderr",
     "output_type": "stream",
     "text": [
      "Sampling 4 chains for 1_000 tune and 1_000 draw iterations (4_000 + 4_000 draws total) took 10 seconds.\n"
     ]
    }
   ],
   "source": [
    "#https://en.wikipedia.org/wiki/Beta_distribution#Mean_and_sample_size\n",
    "\n",
    "with pm.Model() as hierarchical_model:\n",
    "    \n",
    "    crs = [\"outreach_cr\", \"discovery_cr\", \"demo_cr\", \"proposal_cr\"]\n",
    "    h_cr_idata = {}\n",
    "    for i, cr in enumerate(crs):\n",
    "        x1 = x_test[:, i]\n",
    "        x2 = x_test[:, i+1]\n",
    "    \n",
    "        mu = pm.Beta(f'mu_{cr}', 1, 1)\n",
    "        nu = pm.Gamma(f'nu_{cr}', alpha=10, beta=1)\n",
    "        a = pm.Deterministic(f'a_{cr}', mu * nu)\n",
    "        b = pm.Deterministic(f'b_{cr}', (1 - mu) * nu)\n",
    "        mean = pm.Deterministic(f'mean_{cr}', a / (a + b))\n",
    "        \n",
    "        cr = pm.Beta(f'{cr}', alpha=a, beta=b, shape=x1.shape[0])\n",
    "        conversions = pm.Binomial(f\"conversions_{cr}\", n=x1, p=cr, shape=x1.shape[0], observed=x2)\n",
    "        \n",
    "    h_cr_prior_pred = pm.sample_prior_predictive(samples=1000)\n",
    "    h_cr_idata = pm.sample()"
   ]
  },
  {
   "cell_type": "markdown",
   "metadata": {},
   "source": [
    "- After updating the model with new data, we can re-estimate how much activity it would take to achieve 1 sale"
   ]
  },
  {
   "cell_type": "code",
   "execution_count": 12,
   "metadata": {},
   "outputs": [
    {
     "name": "stdout",
     "output_type": "stream",
     "text": [
      "-- New Salesperson Conversion Rates w/ Added Data--\n",
      "Mean outreach_cr: 0.214\n",
      "Mean discovery_cr: 0.406\n",
      "Mean demo_cr: 0.355\n",
      "Mean proposal_cr: 0.378\n"
     ]
    }
   ],
   "source": [
    "test_cr_means = []\n",
    "test_cr_samples = []\n",
    "print(\"-- New Salesperson Conversion Rates w/ Added Data--\")\n",
    "for cr in crs:\n",
    "    test_cr_mean = h_cr_idata.posterior[f\"{cr}\"].data[:, :, -1].mean()\n",
    "    test_cr_samples.append(h_cr_idata.posterior[f\"mean_{cr}\"].data.reshape(-1))\n",
    "    test_cr_means.append(test_cr_mean)\n",
    "    print(f\"Mean {cr}: {round(test_cr_mean, 3)}\")"
   ]
  },
  {
   "cell_type": "code",
   "execution_count": 13,
   "metadata": {},
   "outputs": [
    {
     "name": "stdout",
     "output_type": "stream",
     "text": [
      "-- Recommended Funnel Counts Based on Hyperpriors--\n",
      "Outreach: 90\n",
      "Discovery: 34\n",
      "Demo: 12\n",
      "Proposal: 5\n",
      "Sale: 1\n",
      "\n",
      "-- Recommended Funnel Ranges Based on Hyperpriors (94% HDI)--\n",
      "Outreach Range: [ 62. 106.]\n",
      "Discovery Range: [28. 47.]\n",
      "Demo Range: [10. 15.]\n",
      "Proposal Range: [3. 5.]\n"
     ]
    }
   ],
   "source": [
    "desired_closed_wons = 1\n",
    "funnel_counts = [desired_closed_wons]\n",
    "funnel_samples = []\n",
    "for m, samp_means in zip(test_cr_means, test_cr_samples):\n",
    "    new_count = round(funnel_counts[0] / m)\n",
    "    funnel_samples.append(funnel_counts[0] / samp_means)\n",
    "    funnel_counts.insert(0, new_count)\n",
    "print(\"-- Recommended Funnel Counts Based on Hyperpriors--\")\n",
    "for s, f in zip(stages, funnel_counts):\n",
    "    print(f\"{s}: {f}\")    \n",
    "\n",
    "print()\n",
    "\n",
    "print(\"-- Recommended Funnel Ranges Based on Hyperpriors (94% HDI)--\")\n",
    "for fs, s in zip(funnel_samples[::-1], stages):\n",
    "    hdi = az.hdi(fs, 0.94)\n",
    "    print(f\"{s} Range: {hdi.round()}\")"
   ]
  },
  {
   "cell_type": "markdown",
   "metadata": {},
   "source": [
    "### Other Use Cases\n",
    "- This same exercise could be done on the other salespeople to check what kind of sales activity would be needed to meet increased sales goals"
   ]
  }
 ],
 "metadata": {
  "kernelspec": {
   "display_name": "pymc_env",
   "language": "python",
   "name": "python3"
  },
  "language_info": {
   "codemirror_mode": {
    "name": "ipython",
    "version": 3
   },
   "file_extension": ".py",
   "mimetype": "text/x-python",
   "name": "python",
   "nbconvert_exporter": "python",
   "pygments_lexer": "ipython3",
   "version": "3.12.8"
  }
 },
 "nbformat": 4,
 "nbformat_minor": 2
}
